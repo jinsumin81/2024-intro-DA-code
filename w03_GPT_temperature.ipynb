{
  "nbformat": 4,
  "nbformat_minor": 0,
  "metadata": {
    "colab": {
      "provenance": [],
      "authorship_tag": "ABX9TyMI5kYt0PucpAV/Y7OhU//A",
      "include_colab_link": true
    },
    "kernelspec": {
      "name": "python3",
      "display_name": "Python 3"
    },
    "language_info": {
      "name": "python"
    }
  },
  "cells": [
    {
      "cell_type": "markdown",
      "metadata": {
        "id": "view-in-github",
        "colab_type": "text"
      },
      "source": [
        "<a href=\"https://colab.research.google.com/github/jinsumin81/2024-intro-DA-code/blob/main/w02_GPT_temperature.ipynb\" target=\"_parent\"><img src=\"https://colab.research.google.com/assets/colab-badge.svg\" alt=\"Open In Colab\"/></a>"
      ]
    },
    {
      "cell_type": "code",
      "execution_count": 5,
      "metadata": {
        "colab": {
          "base_uri": "https://localhost:8080/"
        },
        "id": "l9n6JxBEcYwZ",
        "outputId": "20f67d85-3616-4114-c322-b20c1c6fb6a3"
      },
      "outputs": [
        {
          "output_type": "stream",
          "name": "stdout",
          "text": [
            "서울의 온도가 가장 높은 날: \t2018-08-01, 온도: 39.6°C\n"
          ]
        }
      ],
      "source": [
        "import csv\n",
        "\n",
        "# 파일 경로 설정\n",
        "file_path = 'seoul.csv'\n",
        "\n",
        "# 변수 초기화\n",
        "max_temp = -float('inf')  # 가장 높은 온도를 저장하기 위한 변수\n",
        "max_temp_date = ''        # 가장 높은 온도가 발생한 날짜를 저장하기 위한 변수\n",
        "\n",
        "# CSV 파일 읽기\n",
        "with open(file_path, 'r', encoding='cp949') as file:\n",
        "    reader = csv.reader(file)\n",
        "    header = next(reader)  # 첫 번째 줄은 헤더 (열 이름)\n",
        "\n",
        "    # '날짜'와 '최고기온'에 해당하는 인덱스 찾기\n",
        "    date_index = header.index('날짜')\n",
        "    max_temp_index = header.index('최고기온(℃)')\n",
        "\n",
        "    # 각 행을 순회하며 최고 기온 찾기\n",
        "    for row in reader:\n",
        "        try:\n",
        "            temp = float(row[max_temp_index])  # 최고기온을 숫자로 변환\n",
        "            if temp > max_temp:\n",
        "                max_temp = temp\n",
        "                max_temp_date = row[date_index]\n",
        "        except ValueError:\n",
        "            # 온도가 숫자가 아닌 경우 건너뜀\n",
        "            continue\n",
        "\n",
        "# 결과 출력\n",
        "print(f\"서울의 온도가 가장 높은 날: {max_temp_date}, 온도: {max_temp}°C\")\n"
      ]
    }
  ]
}
