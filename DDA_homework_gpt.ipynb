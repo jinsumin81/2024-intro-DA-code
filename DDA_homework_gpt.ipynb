{
  "nbformat": 4,
  "nbformat_minor": 0,
  "metadata": {
    "colab": {
      "provenance": [],
      "authorship_tag": "ABX9TyNat2YUfxi4hwhBze6Rj3W7",
      "include_colab_link": true
    },
    "kernelspec": {
      "name": "python3",
      "display_name": "Python 3"
    },
    "language_info": {
      "name": "python"
    }
  },
  "cells": [
    {
      "cell_type": "markdown",
      "metadata": {
        "id": "view-in-github",
        "colab_type": "text"
      },
      "source": [
        "<a href=\"https://colab.research.google.com/github/jinsumin81/2024-intro-DA-code/blob/main/DDA_homework_gpt.ipynb\" target=\"_parent\"><img src=\"https://colab.research.google.com/assets/colab-badge.svg\" alt=\"Open In Colab\"/></a>"
      ]
    },
    {
      "cell_type": "markdown",
      "source": [
        "#chatGPT에게 요청해 프로그램 실행"
      ],
      "metadata": {
        "id": "BPsn2q2VSypN"
      }
    },
    {
      "cell_type": "code",
      "execution_count": 2,
      "metadata": {
        "colab": {
          "base_uri": "https://localhost:8080/"
        },
        "id": "IKulT-i2RsrU",
        "outputId": "a93561f4-f193-4e5e-c419-d411ca5f4623"
      },
      "outputs": [
        {
          "output_type": "stream",
          "name": "stdout",
          "text": [
            "데이터에서 최대 온도를 찾을 수 없습니다.\n"
          ]
        }
      ],
      "source": [
        "import csv\n",
        "from datetime import datetime\n",
        "\n",
        "# 파일 경로 설정\n",
        "file_path = 'ta_20240913161919.csv'\n",
        "\n",
        "# 최대 온도와 해당 날짜를 추적할 변수 초기화\n",
        "max_temp = -float('inf')\n",
        "max_temp_date = None\n",
        "\n",
        "# CSV 파일 읽기\n",
        "with open(file_path, 'r', encoding='utf-8') as file:\n",
        "    reader = csv.reader(file)\n",
        "\n",
        "    for row in reader:\n",
        "        # 첫 번째 열의 데이터를 탭으로 분리\n",
        "        data = row[0].split('\\t')\n",
        "\n",
        "        # 데이터의 길이와 형식이 올바른지 확인\n",
        "        if len(data) >= 5:\n",
        "            try:\n",
        "                # 날짜와 최대 온도 추출\n",
        "                date = datetime.strptime(data[0], '%Y-%m-%d')\n",
        "                max_temp_value = float(data[4])\n",
        "\n",
        "                # 최대 온도 갱신\n",
        "                if max_temp_value > max_temp:\n",
        "                    max_temp = max_temp_value\n",
        "                    max_temp_date = date\n",
        "\n",
        "            except (ValueError, IndexError):\n",
        "                # 형식이 맞지 않는 데이터는 건너뜀\n",
        "                continue\n",
        "\n",
        "# 최대 온도와 날짜가 존재할 경우에만 출력\n",
        "if max_temp_date:\n",
        "    print(f\"최대 온도는 {max_temp_date.strftime('%Y-%m-%d')}에 {max_temp}도입니다.\")\n",
        "else:\n",
        "    print(\"데이터에서 최대 온도를 찾을 수 없습니다.\")"
      ]
    }
  ]
}